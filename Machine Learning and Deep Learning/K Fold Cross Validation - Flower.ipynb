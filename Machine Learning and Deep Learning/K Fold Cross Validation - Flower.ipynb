{
 "cells": [
  {
   "cell_type": "markdown",
   "id": "00c036c7",
   "metadata": {},
   "source": [
    "# K Fold Cross Validation"
   ]
  },
  {
   "cell_type": "markdown",
   "id": "764b075d",
   "metadata": {},
   "source": [
    "**In this example we are gonna use K Fold Cross Validation to proper uniform our tests samples in order to better fit the models to all the sample data. After our train and test samples are all \"uniformized\" we are gonna run 4 different models(Logistic Regression, SVM, Decision Tree and Random Forest) to see with performs better. After that we are gonna try to improve the best model.**"
   ]
  },
  {
   "cell_type": "code",
   "execution_count": 1,
   "id": "d2b35591",
   "metadata": {},
   "outputs": [
    {
     "data": {
      "text/plain": [
       "['DESCR',\n",
       " 'data',\n",
       " 'data_module',\n",
       " 'feature_names',\n",
       " 'filename',\n",
       " 'frame',\n",
       " 'target',\n",
       " 'target_names']"
      ]
     },
     "execution_count": 1,
     "metadata": {},
     "output_type": "execute_result"
    }
   ],
   "source": [
    "import pandas as pd\n",
    "from sklearn.datasets import load_iris\n",
    "import numpy as np\n",
    "db = load_iris()\n",
    "dir(db)"
   ]
  },
  {
   "cell_type": "code",
   "execution_count": 2,
   "id": "019aa30a",
   "metadata": {},
   "outputs": [
    {
     "data": {
      "text/html": [
       "<div>\n",
       "<style scoped>\n",
       "    .dataframe tbody tr th:only-of-type {\n",
       "        vertical-align: middle;\n",
       "    }\n",
       "\n",
       "    .dataframe tbody tr th {\n",
       "        vertical-align: top;\n",
       "    }\n",
       "\n",
       "    .dataframe thead th {\n",
       "        text-align: right;\n",
       "    }\n",
       "</style>\n",
       "<table border=\"1\" class=\"dataframe\">\n",
       "  <thead>\n",
       "    <tr style=\"text-align: right;\">\n",
       "      <th></th>\n",
       "      <th>0</th>\n",
       "      <th>1</th>\n",
       "      <th>2</th>\n",
       "      <th>3</th>\n",
       "    </tr>\n",
       "  </thead>\n",
       "  <tbody>\n",
       "    <tr>\n",
       "      <th>0</th>\n",
       "      <td>5.1</td>\n",
       "      <td>3.5</td>\n",
       "      <td>1.4</td>\n",
       "      <td>0.2</td>\n",
       "    </tr>\n",
       "    <tr>\n",
       "      <th>1</th>\n",
       "      <td>4.9</td>\n",
       "      <td>3.0</td>\n",
       "      <td>1.4</td>\n",
       "      <td>0.2</td>\n",
       "    </tr>\n",
       "  </tbody>\n",
       "</table>\n",
       "</div>"
      ],
      "text/plain": [
       "     0    1    2    3\n",
       "0  5.1  3.5  1.4  0.2\n",
       "1  4.9  3.0  1.4  0.2"
      ]
     },
     "execution_count": 2,
     "metadata": {},
     "output_type": "execute_result"
    }
   ],
   "source": [
    "data = pd.DataFrame(db.data)\n",
    "data[:2]"
   ]
  },
  {
   "cell_type": "code",
   "execution_count": 3,
   "id": "1e6c2599",
   "metadata": {},
   "outputs": [],
   "source": [
    "from sklearn.linear_model import LogisticRegression\n",
    "from sklearn.svm import SVC\n",
    "from sklearn.ensemble import RandomForestClassifier\n",
    "from sklearn.tree import DecisionTreeClassifier"
   ]
  },
  {
   "cell_type": "code",
   "execution_count": 4,
   "id": "ba408a8a",
   "metadata": {},
   "outputs": [],
   "source": [
    "from sklearn.model_selection import cross_val_score"
   ]
  },
  {
   "cell_type": "code",
   "execution_count": 5,
   "id": "63a8f065",
   "metadata": {},
   "outputs": [
    {
     "data": {
      "text/plain": [
       "array([1.        , 0.96666667, 0.93333333, 0.9       , 1.        ])"
      ]
     },
     "execution_count": 5,
     "metadata": {},
     "output_type": "execute_result"
    }
   ],
   "source": [
    "LR_Model = cross_val_score(LogisticRegression(solver='liblinear',multi_class='ovr'), data, db.target, cv=5)\n",
    "LR_Model"
   ]
  },
  {
   "cell_type": "code",
   "execution_count": 6,
   "id": "55916fc8",
   "metadata": {},
   "outputs": [
    {
     "data": {
      "text/plain": [
       "array([0.96666667, 0.96666667, 0.96666667, 0.93333333, 1.        ])"
      ]
     },
     "execution_count": 6,
     "metadata": {},
     "output_type": "execute_result"
    }
   ],
   "source": [
    "SVC_Model = cross_val_score(SVC(), data, db.target, cv=5)\n",
    "SVC_Model"
   ]
  },
  {
   "cell_type": "code",
   "execution_count": 7,
   "id": "a79e97cd",
   "metadata": {},
   "outputs": [
    {
     "data": {
      "text/plain": [
       "array([0.96666667, 0.96666667, 0.93333333, 0.93333333, 1.        ])"
      ]
     },
     "execution_count": 7,
     "metadata": {},
     "output_type": "execute_result"
    }
   ],
   "source": [
    "Florest_Model = cross_val_score(RandomForestClassifier(n_estimators=8), data, db.target, cv=5)\n",
    "Florest_Model"
   ]
  },
  {
   "cell_type": "code",
   "execution_count": 8,
   "id": "f80a3449",
   "metadata": {},
   "outputs": [
    {
     "data": {
      "text/plain": [
       "array([0.96666667, 0.96666667, 0.9       , 0.96666667, 1.        ])"
      ]
     },
     "execution_count": 8,
     "metadata": {},
     "output_type": "execute_result"
    }
   ],
   "source": [
    "Tree_Model = cross_val_score(DecisionTreeClassifier(), data, db.target, cv=5)\n",
    "Tree_Model"
   ]
  },
  {
   "cell_type": "code",
   "execution_count": 9,
   "id": "556aa313",
   "metadata": {},
   "outputs": [
    {
     "data": {
      "text/plain": [
       "0.9600000000000002"
      ]
     },
     "execution_count": 9,
     "metadata": {},
     "output_type": "execute_result"
    }
   ],
   "source": [
    "np.average(LR_Model)"
   ]
  },
  {
   "cell_type": "code",
   "execution_count": 10,
   "id": "85b8c26e",
   "metadata": {},
   "outputs": [
    {
     "data": {
      "text/plain": [
       "0.9666666666666666"
      ]
     },
     "execution_count": 10,
     "metadata": {},
     "output_type": "execute_result"
    }
   ],
   "source": [
    "np.average(SVC_Model)"
   ]
  },
  {
   "cell_type": "code",
   "execution_count": 11,
   "id": "e2a8ec7b",
   "metadata": {},
   "outputs": [
    {
     "data": {
      "text/plain": [
       "0.96"
      ]
     },
     "execution_count": 11,
     "metadata": {},
     "output_type": "execute_result"
    }
   ],
   "source": [
    "np.average(Florest_Model)"
   ]
  },
  {
   "cell_type": "code",
   "execution_count": 12,
   "id": "b9c86481",
   "metadata": {},
   "outputs": [
    {
     "data": {
      "text/plain": [
       "0.9600000000000002"
      ]
     },
     "execution_count": 12,
     "metadata": {},
     "output_type": "execute_result"
    }
   ],
   "source": [
    "np.average(Tree_Model)"
   ]
  },
  {
   "cell_type": "markdown",
   "id": "f61bf59e",
   "metadata": {},
   "source": [
    "**With an overall score of 96,7% the SVC Model performed a little bit better then it's competitors, let's try now improve this model with some hyperparameter tunning:**"
   ]
  },
  {
   "cell_type": "code",
   "execution_count": 13,
   "id": "1ba34f5c",
   "metadata": {},
   "outputs": [
    {
     "data": {
      "text/plain": [
       "array([0.96666667, 1.        , 0.96666667, 0.96666667, 1.        ])"
      ]
     },
     "execution_count": 13,
     "metadata": {},
     "output_type": "execute_result"
    }
   ],
   "source": [
    "SVC_Model_1 = cross_val_score(SVC(C=1.5, kernel='linear'), data, db.target, cv=5)\n",
    "SVC_Model_1"
   ]
  },
  {
   "cell_type": "code",
   "execution_count": 14,
   "id": "4b608163",
   "metadata": {},
   "outputs": [
    {
     "data": {
      "text/plain": [
       "array([1.        , 1.        , 0.9       , 0.93333333, 1.        ])"
      ]
     },
     "execution_count": 14,
     "metadata": {},
     "output_type": "execute_result"
    }
   ],
   "source": [
    "SVC_Model_2 = cross_val_score(SVC(C=2.5, kernel='poly'), data, db.target, cv=5)\n",
    "SVC_Model_2"
   ]
  },
  {
   "cell_type": "code",
   "execution_count": 15,
   "id": "c5931d1a",
   "metadata": {},
   "outputs": [
    {
     "data": {
      "text/plain": [
       "array([0.96666667, 1.        , 1.        , 0.96666667, 1.        ])"
      ]
     },
     "execution_count": 15,
     "metadata": {},
     "output_type": "execute_result"
    }
   ],
   "source": [
    "SVC_Model_3 = cross_val_score(SVC(C=0.5, kernel='linear'), data, db.target, cv=5)\n",
    "SVC_Model_3"
   ]
  },
  {
   "cell_type": "code",
   "execution_count": 16,
   "id": "03182476",
   "metadata": {},
   "outputs": [
    {
     "data": {
      "text/plain": [
       "0.9800000000000001"
      ]
     },
     "execution_count": 16,
     "metadata": {},
     "output_type": "execute_result"
    }
   ],
   "source": [
    "np.average(SVC_Model_1)"
   ]
  },
  {
   "cell_type": "code",
   "execution_count": 17,
   "id": "6f876f3e",
   "metadata": {},
   "outputs": [
    {
     "data": {
      "text/plain": [
       "0.9666666666666666"
      ]
     },
     "execution_count": 17,
     "metadata": {},
     "output_type": "execute_result"
    }
   ],
   "source": [
    "np.average(SVC_Model_2)"
   ]
  },
  {
   "cell_type": "code",
   "execution_count": 18,
   "id": "ba51290e",
   "metadata": {},
   "outputs": [
    {
     "data": {
      "text/plain": [
       "0.9866666666666667"
      ]
     },
     "execution_count": 18,
     "metadata": {},
     "output_type": "execute_result"
    }
   ],
   "source": [
    "np.average(SVC_Model_3)"
   ]
  },
  {
   "cell_type": "markdown",
   "id": "2a940f4e",
   "metadata": {},
   "source": [
    "**With the best model (SVC) we could check for some combinations, and the combination of C=0.5 and kernel as 'linear' was the best one. We improved the model, coming from an avarage score of 96,7% to 98,7%.**"
   ]
  },
  {
   "cell_type": "code",
   "execution_count": null,
   "id": "4ef25f1d",
   "metadata": {},
   "outputs": [],
   "source": []
  }
 ],
 "metadata": {
  "kernelspec": {
   "display_name": "Python 3 (ipykernel)",
   "language": "python",
   "name": "python3"
  },
  "language_info": {
   "codemirror_mode": {
    "name": "ipython",
    "version": 3
   },
   "file_extension": ".py",
   "mimetype": "text/x-python",
   "name": "python",
   "nbconvert_exporter": "python",
   "pygments_lexer": "ipython3",
   "version": "3.10.9"
  }
 },
 "nbformat": 4,
 "nbformat_minor": 5
}
